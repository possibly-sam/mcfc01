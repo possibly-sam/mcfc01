{
 "cells": [
  {
   "cell_type": "code",
   "execution_count": 1,
   "metadata": {},
   "outputs": [],
   "source": [
    "import os\n",
    "import math\n",
    "import random\n",
    "import numpy\n",
    "import pandas as pd"
   ]
  },
  {
   "cell_type": "code",
   "execution_count": 2,
   "metadata": {},
   "outputs": [],
   "source": [
    "indexcols = ['grc__Risk_Name__c', 'ExtractDate', 'Risk__Mitigation__c',\n",
    "            'Business_Unit__c', 'Risk__Type__c', 'ReportingMonth', 'grc__Status__c', \n",
    "            'Design_Element__c',\n",
    "            'XactHE__Contractual_Allocation__c']\n",
    "# mainfilepath = os.getcwd() + \"\\\\csv\\\\Xactium.csv\"\n",
    "mainfilepath = os.getcwd() + \"\\\\Xactium+Other.csv\"\n",
    "df = pd.read_csv(mainfilepath, index_col=indexcols).sort_index()"
   ]
  },
  {
   "cell_type": "code",
   "execution_count": 3,
   "metadata": {},
   "outputs": [
    {
     "name": "stdout",
     "output_type": "stream",
     "text": [
      "Pandas(Index=('R10115', '01/05/2019', 'Residual', 'A14 Section 3', 'Threat', '01/04/2019', 'Closed', nan, 'Supplier'), Risk__Best_Case__c=100.0, Risk__Value__c=100.0, Risk__Worst_Case__c=100.0, Risk__Category__c='Likelihood')\n"
     ]
    }
   ],
   "source": [
    "df2 = {}\n",
    "for i, row in enumerate(df.itertuples()):\n",
    "    try:\n",
    "        if i < 1:\n",
    "            print(row)\n",
    "#         if i > 10:\n",
    "#             break\n",
    "        if row.Index not in df2:\n",
    "            df2[row.Index] = {}\n",
    "\n",
    "        if row[0][4]=='Opportunity':\n",
    "            mult = -1\n",
    "        else:\n",
    "            mult = 1\n",
    "        if row[4]=='Likelihood':\n",
    "            if pd.isna(row[2]):\n",
    "                df2[row.Index]['likelihood'] = 0\n",
    "            elif row[2]==None:\n",
    "                df2[row.Index]['likelihood'] = 0\n",
    "            else:\n",
    "                df2[row.Index]['likelihood'] = row[2]/100\n",
    "#             tup = extra_df[extra_df['grc__risk_Name__c']==row[0][0]].iloc[0]\n",
    "#             df2[row.Index]['Name'] = tup['Name']\n",
    "#             df2[row.Index]['RBS_Code__c'] = tup['RBS_Code__c']\n",
    "#             df2[row.Index]['grc__Subcategory__c'] = tup['grc__Subcategory__c']\n",
    "        elif row[4]=='Cost':\n",
    "            if (row[1]*mult > row[3]*mult):  # reversed\n",
    "                df2[row.Index]['c_worst'] = row[1] * mult\n",
    "                df2[row.Index]['c_mid'] = row[2] * mult\n",
    "                df2[row.Index]['c_best'] = row[3] * mult\n",
    "            else:\n",
    "                df2[row.Index]['c_best'] = row[1] * mult\n",
    "                df2[row.Index]['c_mid'] = row[2] * mult\n",
    "                df2[row.Index]['c_worst'] = row[3] * mult\n",
    "        # elif row[4]=='Time':\n",
    "        #     df2[row.Index]['t_best'] = row[1] * mult\n",
    "        #     df2[row.Index]['t_mid'] = row[2] * mult\n",
    "        #     df2[row.Index]['t_worst'] = row[3] * mult\n",
    "        elif pd.isna(row[4]):\n",
    "            pass\n",
    "        # else:\n",
    "        #     df2[row.Index][row[4]] = 1\n",
    "    except Exception as e:\n",
    "        print(\"Error on iteration \"+str(i)+\": \"+str(row))\n",
    "        print(e)\n",
    "        break\n",
    "\n",
    "df2 = pd.DataFrame(df2).transpose()\n",
    "# df2.head()"
   ]
  },
  {
   "cell_type": "code",
   "execution_count": 4,
   "metadata": {},
   "outputs": [
    {
     "data": {
      "text/plain": [
       "(65853, 4)"
      ]
     },
     "execution_count": 4,
     "metadata": {},
     "output_type": "execute_result"
    }
   ],
   "source": [
    "df2.shape"
   ]
  },
  {
   "cell_type": "code",
   "execution_count": 5,
   "metadata": {},
   "outputs": [],
   "source": [
    "df3 = df2.reset_index(col_fill=indexcols).rename(columns={\n",
    "    \"level_0\": \"grc__Risk_Name__c\",\n",
    "    \"level_1\": \"ExtractDate\",\n",
    "    \"level_2\": \"Risk__Mitigation__c\",\n",
    "    \"level_3\": \"Business_Unit__c\",\n",
    "    \"level_4\": \"Risk__Type__c\",\n",
    "    \"level_5\": \"ReportingMonth\",\n",
    "    \"level_6\": \"grc__Status__c\",\n",
    "    \"level_7\": \"Design_Element__c\",\n",
    "    \"level_8\": \"XactHE__Contractual_Allocation__c\"\n",
    "})"
   ]
  },
  {
   "cell_type": "code",
   "execution_count": 6,
   "metadata": {},
   "outputs": [
    {
     "data": {
      "text/plain": [
       "(58837, 10)"
      ]
     },
     "execution_count": 6,
     "metadata": {},
     "output_type": "execute_result"
    }
   ],
   "source": [
    "maindf = df3.drop(labels=[\"Risk__Type__c\",\"Design_Element__c\",\"XactHE__Contractual_Allocation__c\"], axis='columns')\n",
    "maindf.dropna(inplace=True)\n",
    "maindf.shape"
   ]
  },
  {
   "cell_type": "code",
   "execution_count": null,
   "metadata": {
    "jupyter": {
     "source_hidden": true
    }
   },
   "outputs": [],
   "source": [
    "# def collapse(best=100, expected=120, worst=250, prob=0.2):\n",
    "#     if prob == None:\n",
    "#         return 0\n",
    "#     if math.isnan(prob):\n",
    "#         return 0\n",
    "#     if expected < best or worst < expected:\n",
    "#         return 0\n",
    "#     if prob < random.random():\n",
    "#         return 0\n",
    "\n",
    "#     mu = (best + 4*expected + worst)/6\n",
    "#     sd = (mu-best)*(worst-mu)\n",
    "#     sd = abs(sd)/7\n",
    "#     sd = math.sqrt(sd)\n",
    "\n",
    "#     return float(round(random.normalvariate(float(mu),float(sd))))\n",
    "\n",
    "# def collapsevector(b_, e_, w_, p_) :\n",
    "#     # require b_.length == e_.length etc.\n",
    "#     return sum(\n",
    "#         list(map(\n",
    "#             lambda k: collapse( best=b_[k], expected=e_[k], worst=w_[k], prob=p_[k]  ),\n",
    "#             range(len(b_))\n",
    "#         ))\n",
    "#     )\n",
    "\n",
    "# def collapsevectorsample(b_, e_, w_, p_, numberofsamples=0):\n",
    "#     # require b_length == e_.length etc.\n",
    "#     max_samples = len(b_)\n",
    "#     if numberofsamples==0:  numberofsamples=max_samples;\n",
    "\n",
    "#     if numberofsamples < max_samples:\n",
    "#         ix = numpy.random.choice(max_samples,  numberofsamples, False)\n",
    "#         b_ = [ b_[k] for k in ix ]\n",
    "#         e_ = [ e_[k] for k in ix ]\n",
    "#         w_ = [ w_[k] for k in ix ]\n",
    "#         p_ = [ p_[k] for k in ix ]\n",
    "\n",
    "#     return round(max_samples*collapsevector(b_, e_, w_, p_)/numberofsamples);\n",
    "\n",
    "# def collapse_many(b_, e_, w_, p_, number_of_times=1, numberofsamples=0):\n",
    "#     return [ collapsevectorsample(b_, e_, w_, p_, numberofsamples)  for k in range(number_of_times)  ]"
   ]
  },
  {
   "cell_type": "code",
   "execution_count": 7,
   "metadata": {},
   "outputs": [],
   "source": [
    "indexcols = ['Business_Unit__c', 'grc__Risk_Name__c', 'grc__Status__c', 'Risk__Type__c', 'ExtractDate', 'ReportingMonth']\n",
    "datesfilepath = os.getcwd() + \"\\\\Monte_Carlo_Risk_Dates.csv\"\n",
    "dates_df = pd.read_csv(datesfilepath, index_col=indexcols).sort_index()\n",
    "dates_df = dates_df.reset_index(col_fill=indexcols).rename(columns={\n",
    "    \"level_0\": \"grc__Risk_Name__c\",\n",
    "    \"level_1\": \"ExtractDate\",\n",
    "    \"level_2\": \"Risk__Mitigation__c\",\n",
    "    \"level_3\": \"Business_Unit__c\",\n",
    "    \"level_4\": \"Risk__Type__c\",\n",
    "    \"level_5\": \"ReportingMonth\",\n",
    "    \"level_6\": \"grc__Status__c\",\n",
    "    \"level_7\": \"Design_Element__c\",\n",
    "    \"level_8\": \"XactHE__Contractual_Allocation__c\"\n",
    "})\n",
    "# dates_df.head(2)"
   ]
  },
  {
   "cell_type": "code",
   "execution_count": 8,
   "metadata": {},
   "outputs": [],
   "source": [
    "mainwithdates = maindf.join(dates_df, lsuffix=\"\", rsuffix=\"_dates\")\n",
    "# mainwithdates.head()"
   ]
  },
  {
   "cell_type": "code",
   "execution_count": 9,
   "metadata": {},
   "outputs": [],
   "source": [
    "mainwithdates = mainwithdates.drop(labels=[\"Business_Unit__c_dates\",\"grc__Risk_Name__c_dates\",\"grc__Status__c_dates\",\"ExtractDate_dates\",\"ReportingMonth_dates\"], axis='columns')\n",
    "# mainwithdates.dropna(inplace=True)\n",
    "# mainwithdates.shape"
   ]
  },
  {
   "cell_type": "code",
   "execution_count": 10,
   "metadata": {},
   "outputs": [],
   "source": [
    "mainwithdates.to_csv(\"Risk_with_dates.csv\")\n",
    "maindf = mainwithdates"
   ]
  },
  {
   "cell_type": "code",
   "execution_count": 11,
   "metadata": {},
   "outputs": [
    {
     "data": {
      "text/html": [
       "<div>\n",
       "<style scoped>\n",
       "    .dataframe tbody tr th:only-of-type {\n",
       "        vertical-align: middle;\n",
       "    }\n",
       "\n",
       "    .dataframe tbody tr th {\n",
       "        vertical-align: top;\n",
       "    }\n",
       "\n",
       "    .dataframe thead th {\n",
       "        text-align: right;\n",
       "    }\n",
       "</style>\n",
       "<table border=\"1\" class=\"dataframe\">\n",
       "  <thead>\n",
       "    <tr style=\"text-align: right;\">\n",
       "      <th></th>\n",
       "      <th>grc__Risk_Name__c</th>\n",
       "      <th>Business_Unit__c</th>\n",
       "      <th>Risk__Mitigation__c</th>\n",
       "      <th>Risk__Type__c</th>\n",
       "      <th>ReportingMonth</th>\n",
       "      <th>grc__Status__c</th>\n",
       "      <th>c_best</th>\n",
       "      <th>c_mid</th>\n",
       "      <th>c_worst</th>\n",
       "      <th>likelihood</th>\n",
       "      <th>Start_Date_of_Risk__c</th>\n",
       "      <th>End_Date_of_Risk__c</th>\n",
       "    </tr>\n",
       "  </thead>\n",
       "  <tbody>\n",
       "    <tr>\n",
       "      <th>5071</th>\n",
       "      <td>R12023</td>\n",
       "      <td>A14 Section 2</td>\n",
       "      <td>Residual</td>\n",
       "      <td>NaN</td>\n",
       "      <td>01/05/2019</td>\n",
       "      <td>Closed</td>\n",
       "      <td>400000.0</td>\n",
       "      <td>500000.0</td>\n",
       "      <td>600000.0</td>\n",
       "      <td>0.18</td>\n",
       "      <td>NaN</td>\n",
       "      <td>NaN</td>\n",
       "    </tr>\n",
       "    <tr>\n",
       "      <th>5122</th>\n",
       "      <td>R12024</td>\n",
       "      <td>A14 Section 2</td>\n",
       "      <td>Residual</td>\n",
       "      <td>NaN</td>\n",
       "      <td>01/05/2019</td>\n",
       "      <td>Closed</td>\n",
       "      <td>400000.0</td>\n",
       "      <td>500000.0</td>\n",
       "      <td>600000.0</td>\n",
       "      <td>0.18</td>\n",
       "      <td>NaN</td>\n",
       "      <td>NaN</td>\n",
       "    </tr>\n",
       "    <tr>\n",
       "      <th>5215</th>\n",
       "      <td>R12027</td>\n",
       "      <td>A14 Section 2</td>\n",
       "      <td>Residual</td>\n",
       "      <td>NaN</td>\n",
       "      <td>01/05/2019</td>\n",
       "      <td>Closed</td>\n",
       "      <td>40000.0</td>\n",
       "      <td>50000.0</td>\n",
       "      <td>60000.0</td>\n",
       "      <td>0.70</td>\n",
       "      <td>NaN</td>\n",
       "      <td>NaN</td>\n",
       "    </tr>\n",
       "    <tr>\n",
       "      <th>5287</th>\n",
       "      <td>R12029</td>\n",
       "      <td>A14 Section 2</td>\n",
       "      <td>Residual</td>\n",
       "      <td>NaN</td>\n",
       "      <td>01/05/2019</td>\n",
       "      <td>Closed</td>\n",
       "      <td>400000.0</td>\n",
       "      <td>500000.0</td>\n",
       "      <td>600000.0</td>\n",
       "      <td>0.50</td>\n",
       "      <td>NaN</td>\n",
       "      <td>NaN</td>\n",
       "    </tr>\n",
       "    <tr>\n",
       "      <th>5338</th>\n",
       "      <td>R12030</td>\n",
       "      <td>A14 Section 2</td>\n",
       "      <td>Residual</td>\n",
       "      <td>NaN</td>\n",
       "      <td>01/05/2019</td>\n",
       "      <td>Closed</td>\n",
       "      <td>640000.0</td>\n",
       "      <td>800000.0</td>\n",
       "      <td>960000.0</td>\n",
       "      <td>0.50</td>\n",
       "      <td>NaN</td>\n",
       "      <td>NaN</td>\n",
       "    </tr>\n",
       "  </tbody>\n",
       "</table>\n",
       "</div>"
      ],
      "text/plain": [
       "     grc__Risk_Name__c Business_Unit__c Risk__Mitigation__c Risk__Type__c  \\\n",
       "5071            R12023    A14 Section 2            Residual           NaN   \n",
       "5122            R12024    A14 Section 2            Residual           NaN   \n",
       "5215            R12027    A14 Section 2            Residual           NaN   \n",
       "5287            R12029    A14 Section 2            Residual           NaN   \n",
       "5338            R12030    A14 Section 2            Residual           NaN   \n",
       "\n",
       "     ReportingMonth grc__Status__c    c_best     c_mid   c_worst  likelihood  \\\n",
       "5071     01/05/2019         Closed  400000.0  500000.0  600000.0        0.18   \n",
       "5122     01/05/2019         Closed  400000.0  500000.0  600000.0        0.18   \n",
       "5215     01/05/2019         Closed   40000.0   50000.0   60000.0        0.70   \n",
       "5287     01/05/2019         Closed  400000.0  500000.0  600000.0        0.50   \n",
       "5338     01/05/2019         Closed  640000.0  800000.0  960000.0        0.50   \n",
       "\n",
       "     Start_Date_of_Risk__c End_Date_of_Risk__c  \n",
       "5071                   NaN                 NaN  \n",
       "5122                   NaN                 NaN  \n",
       "5215                   NaN                 NaN  \n",
       "5287                   NaN                 NaN  \n",
       "5338                   NaN                 NaN  "
      ]
     },
     "execution_count": 11,
     "metadata": {},
     "output_type": "execute_result"
    }
   ],
   "source": [
    "# Select filters\n",
    "bu = \"A14 Section 2\"\n",
    "ReportingMonth = \"01/05/2019\"\n",
    "mitigation = \"Residual\"\n",
    "\n",
    "# Filter data\n",
    "colslist = [\n",
    "        'grc__Risk_Name__c', 'Business_Unit__c', 'Risk__Mitigation__c', 'Risk__Type__c', 'ReportingMonth', 'grc__Status__c',\n",
    "        'c_best', 'c_mid', 'c_worst', 'likelihood', 'Start_Date_of_Risk__c', 'End_Date_of_Risk__c'\n",
    "]\n",
    "tmp = maindf.loc[maindf['Risk__Mitigation__c'] == mitigation, colslist]\n",
    "tmp2 = tmp.loc[tmp['ReportingMonth'] == ReportingMonth, colslist]\n",
    "if bu != \"All\":\n",
    "    scenario = tmp2.loc[tmp2['Business_Unit__c'] == bu, colslist]\n",
    "else:\n",
    "    scenario = tmp2\n",
    "scenario.head()"
   ]
  },
  {
   "cell_type": "code",
   "execution_count": 12,
   "metadata": {},
   "outputs": [
    {
     "data": {
      "text/plain": [
       "(247, 12)"
      ]
     },
     "execution_count": 12,
     "metadata": {},
     "output_type": "execute_result"
    }
   ],
   "source": [
    "scenario.shape"
   ]
  },
  {
   "cell_type": "code",
   "execution_count": 13,
   "metadata": {},
   "outputs": [],
   "source": [
    "def colpse(it):\n",
    "    if random.random() >= it['likelihood']:\n",
    "        return {'id': it['grc__Risk_Name__c'], 'contrib': 0}\n",
    "    else:\n",
    "        return {'id': it['grc__Risk_Name__c'], 'contrib': random.triangular(it['c_best'], it['c_worst'], it['c_mid'])}"
   ]
  },
  {
   "cell_type": "code",
   "execution_count": 14,
   "metadata": {},
   "outputs": [],
   "source": [
    "def all_risks_vals(risks):\n",
    "    df = []\n",
    "    for idx, it in risks.iterrows():\n",
    "        df.append(colpse(it))\n",
    "    return sorted(df, key=lambda tup: tup['contrib'])"
   ]
  },
  {
   "cell_type": "code",
   "execution_count": 15,
   "metadata": {},
   "outputs": [],
   "source": [
    "def one_sample_all_risks(risks):\n",
    "    x = all_risks_vals(risks)\n",
    "    tot = list(map(lambda it: it['contrib'], x))\n",
    "    return {\n",
    "        'amount': sum(tot),\n",
    "        'keyrisk1': x[-1]['id'],\n",
    "        'keyrisk1_val': x[-1]['contrib'],\n",
    "        'keyrisk2': x[-2]['id'],\n",
    "        'keyrisk2_val': x[-2]['contrib'],\n",
    "        'keyrisk3': x[-3]['id'],\n",
    "        'keyrisk3_val': x[-3]['contrib'],\n",
    "        'keyopp1': x[0]['id'],\n",
    "        'keyopp1_val': x[0]['contrib'],\n",
    "        'keyopp2': x[1]['id'],\n",
    "        'keyopp2_val': x[1]['contrib'],\n",
    "        'keyopp3': x[2]['id'],\n",
    "        'keyopp3_val': x[2]['contrib'],\n",
    "        'sub_total': x[0]['contrib']+x[1]['contrib']+x[2]['contrib']+x[-1]['contrib']+x[-2]['contrib']+x[-3]['contrib']\n",
    "    }"
   ]
  },
  {
   "cell_type": "code",
   "execution_count": 16,
   "metadata": {},
   "outputs": [],
   "source": [
    "def generate_n_samples(risks, n=10):\n",
    "    return [ one_sample_all_risks(risks) for _ in range(n) ]"
   ]
  },
  {
   "cell_type": "code",
   "execution_count": 17,
   "metadata": {
    "collapsed": true,
    "jupyter": {
     "outputs_hidden": true
    }
   },
   "outputs": [
    {
     "name": "stdout",
     "output_type": "stream",
     "text": [
      " "
     ]
    },
    {
     "data": {
      "text/plain": [
       "         88779979 function calls (87159873 primitive calls) in 72.051 seconds\n",
       "\n",
       "   Ordered by: internal time\n",
       "\n",
       "   ncalls  tottime  percall  cumtime  percall filename:lineno(function)\n",
       " 12409698    5.527    0.000   10.423    0.000 {built-in method builtins.isinstance}\n",
       "   875087    3.390    0.000   18.070    0.000 base.py:4342(get_value)\n",
       "  7797487    3.319    0.000    4.278    0.000 generic.py:7(_check)\n",
       "   247007    3.055    0.000    4.807    0.000 {pandas._libs.lib.infer_dtype}\n",
       "   247000    2.248    0.000   47.432    0.000 series.py:152(__init__)\n",
       "   875087    2.120    0.000   20.849    0.000 series.py:865(__getitem__)\n",
       " 12023800    2.081    0.000    3.805    0.000 {built-in method builtins.getattr}\n",
       "   875087    2.053    0.000    2.053    0.000 {method 'get_value' of 'pandas._libs.index.IndexEngine' objects}\n",
       "   247014    1.666    0.000   27.080    0.000 construction.py:537(sanitize_array)\n",
       "   494024    1.476    0.000    3.600    0.000 _dtype.py:319(_name_get)\n",
       "   247016    1.459    0.000    9.127    0.000 blocks.py:3034(get_block_type)\n",
       "  1750174    1.456    0.000    4.692    0.000 {pandas._libs.lib.values_from_object}\n",
       "   247020    1.393    0.000    8.231    0.000 cast.py:953(maybe_cast_to_datetime)\n",
       "  1239088    1.351    0.000    1.351    0.000 {built-in method builtins.hasattr}\n",
       "4506261/2886169    1.342    0.000    2.074    0.000 {built-in method builtins.len}\n",
       "   994043    1.288    0.000    2.367    0.000 common.py:1845(_is_dtype_type)\n",
       "  1483080    1.270    0.000    5.453    0.000 base.py:75(is_dtype)\n",
       "   247012    1.254    0.000    5.961    0.000 cast.py:846(maybe_infer_to_datetimelike)\n",
       "   875087    1.245    0.000    3.473    0.000 base.py:2849(_convert_scalar_indexer)\n",
       "   247014    1.188    0.000    3.036    0.000 cast.py:832(maybe_castable)\n",
       "   875087    1.056    0.000    2.781    0.000 managers.py:1556(get_values)\n",
       "   247014    0.961    0.000   18.246    0.000 construction.py:684(_try_cast)\n",
       "  4705227    0.943    0.000    0.943    0.000 {built-in method builtins.issubclass}\n",
       "   495022    0.921    0.000    2.002    0.000 common.py:160(is_sparse)\n",
       "   247000    0.895    0.000   22.309    0.000 <ipython-input-13-9b8b62fde662>:1(colpse)\n",
       "   248000    0.881    0.000   48.648    0.000 frame.py:797(iterrows)\n",
       "   494024    0.879    0.000    2.124    0.000 numerictypes.py:365(issubdtype)\n",
       "   247000    0.876    0.000   13.131    0.000 managers.py:1443(__init__)\n",
       "   248000    0.837    0.000    2.169    0.000 generic.py:5069(__setattr__)\n",
       "   743032    0.833    0.000    3.066    0.000 common.py:131(is_object_dtype)\n",
       "   988048    0.803    0.000    1.184    0.000 numerictypes.py:293(issubclass_)\n",
       "   494013    0.787    0.000    1.979    0.000 inference.py:253(is_list_like)\n",
       "   875087    0.787    0.000    1.248    0.000 managers.py:1549(internal_values)\n",
       "  1369123    0.759    0.000    0.759    0.000 {built-in method numpy.array}\n",
       "   247012    0.756    0.000    0.756    0.000 {pandas._libs.lib.infer_datetimelike_array}\n",
       "  2625261    0.755    0.000    0.755    0.000 managers.py:1488(_block)\n",
       "     1000    0.755    0.001   71.920    0.072 <ipython-input-14-dd87c65e3d04>:1(all_risks_vals)\n",
       "   247002    0.738    0.000    1.582    0.000 blocks.py:78(__init__)\n",
       "  1620092    0.732    0.000    0.939    0.000 base.py:652(__len__)\n",
       "   875087    0.693    0.000    1.199    0.000 managers.py:1522(dtype)\n",
       "   875087    0.662    0.000    0.662    0.000 {method 'view' of 'numpy.ndarray' objects}\n",
       "   875087    0.568    0.000    1.767    0.000 series.py:406(dtype)\n",
       "   247002    0.564    0.000   11.818    0.000 blocks.py:3080(make_block)\n",
       "   247001    0.502    0.000    2.127    0.000 blocks.py:2626(__init__)\n",
       "   875087    0.475    0.000    1.723    0.000 series.py:476(_values)\n",
       "   247000    0.469    0.000    0.811    0.000 series.py:392(name)\n",
       "   247001    0.461    0.000    0.461    0.000 generic.py:127(__init__)\n",
       "   875087    0.455    0.000    3.236    0.000 series.py:490(get_values)\n",
       "   247000    0.445    0.000    0.587    0.000 series.py:354(_set_axis)\n",
       "   247002    0.442    0.000    0.495    0.000 blocks.py:199(mgr_locs)\n",
       "   247017    0.437    0.000    1.352    0.000 dtypes.py:973(is_dtype)\n",
       "   990066    0.421    0.000    1.715    0.000 <frozen importlib._bootstrap>:1009(_handle_fromlist)\n",
       "   494016    0.402    0.000    0.402    0.000 {built-in method _abc._abc_instancecheck}\n",
       "   494022    0.396    0.000    3.476    0.000 common.py:262(is_categorical)\n",
       "   875087    0.382    0.000    1.044    0.000 blocks.py:184(to_dense)\n",
       "   247006    0.381    0.000    0.862    0.000 common.py:868(is_integer_dtype)\n",
       "   494024    0.375    0.000    2.325    0.000 common.py:572(is_categorical_dtype)\n",
       "   875087    0.359    0.000    0.490    0.000 common.py:316(apply_if_callable)\n",
       "   251019    0.348    0.000    0.857    0.000 common.py:1702(is_extension_array_dtype)\n",
       "   247006    0.344    0.000    4.131    0.000 common.py:1643(is_extension_type)\n",
       "   247000    0.341    0.000    0.341    0.000 generic.py:5053(__getattr__)\n",
       "   251019    0.331    0.000    0.439    0.000 dtypes.py:68(find)\n",
       "   127029    0.309    0.000    0.464    0.000 random.py:378(triangular)\n",
       "   247000    0.305    0.000    0.521    0.000 series.py:399(name)\n",
       "   247017    0.305    0.000    1.220    0.000 dtypes.py:827(is_dtype)\n",
       "   495023    0.297    0.000    2.084    0.000 common.py:434(is_datetime64tz_dtype)\n",
       "   747035    0.261    0.000    0.397    0.000 common.py:119(<lambda>)\n",
       "   877089    0.255    0.000    0.255    0.000 blocks.py:308(dtype)\n",
       "   747035    0.249    0.000    0.249    0.000 common.py:117(classes)\n",
       "   249015    0.249    0.000    0.369    0.000 common.py:1981(pandas_dtype)\n",
       "   247014    0.244    0.000    1.069    0.000 arrays.py:7(extract_array)\n",
       "   494016    0.216    0.000    0.618    0.000 abc.py:137(__instancecheck__)\n",
       "   247018    0.184    0.000    1.536    0.000 common.py:536(is_interval_dtype)\n",
       "   875087    0.180    0.000    0.180    0.000 blocks.py:165(internal_values)\n",
       "   875103    0.168    0.000    0.168    0.000 {pandas._libs.lib.is_scalar}\n",
       "   247017    0.164    0.000    1.384    0.000 common.py:503(is_period_dtype)\n",
       "   247006    0.155    0.000    0.207    0.000 base.py:5318(ensure_index)\n",
       "   875101    0.152    0.000    0.152    0.000 {pandas._libs.lib.is_float}\n",
       "   247006    0.149    0.000    0.288    0.000 cast.py:1218(construct_1d_ndarray_preserving_na)\n",
       "   247000    0.146    0.000    0.216    0.000 inference.py:438(is_hashable)\n",
       "   247000    0.142    0.000    0.142    0.000 series.py:382(_set_subtyp)\n",
       "   247002    0.138    0.000    0.138    0.000 blocks.py:89(_check_ndim)\n",
       "   875087    0.131    0.000    0.131    0.000 {built-in method builtins.callable}\n",
       "   374029    0.131    0.000    0.131    0.000 {method 'random' of '_random.Random' objects}\n",
       "   105831    0.126    0.000    0.126    0.000 {built-in method math.sqrt}\n",
       "   247008    0.114    0.000    0.114    0.000 common.py:122(classes_and_not_datetimelike)\n",
       "     1000    0.108    0.000    0.141    0.000 {built-in method builtins.sorted}\n",
       "   247008    0.100    0.000    0.152    0.000 common.py:127(<lambda>)\n",
       "     1000    0.081    0.000   72.030    0.072 <ipython-input-15-171dd80bae5c>:1(one_sample_all_risks)\n",
       "   247000    0.070    0.000    0.070    0.000 {built-in method builtins.hash}\n",
       "   247029    0.067    0.000    0.067    0.000 {method 'append' of 'list' objects}\n",
       "   249006    0.063    0.000    0.063    0.000 blocks.py:195(mgr_locs)\n",
       "   247012    0.056    0.000    0.056    0.000 {pandas._libs.algos.ensure_object}\n",
       "     1000    0.055    0.000    0.274    0.000 managers.py:772(_interleave)\n",
       "     2000    0.040    0.000    0.045    0.000 {method 'astype' of 'numpy.ndarray' objects}\n",
       "   247000    0.033    0.000    0.033    0.000 <ipython-input-14-dd87c65e3d04>:5(<lambda>)\n",
       "     2000    0.031    0.000    0.040    0.000 numerictypes.py:578(_can_coerce_all)\n",
       "   247000    0.025    0.000    0.025    0.000 <ipython-input-15-171dd80bae5c>:3(<lambda>)\n",
       "     1005    0.016    0.000    0.016    0.000 {built-in method numpy.empty}\n",
       "        1    0.015    0.015   72.045   72.045 <ipython-input-16-c74de36414ec>:2(<listcomp>)\n",
       "     1001    0.015    0.000    0.015    0.000 {method 'reduce' of 'numpy.ufunc' objects}\n",
       "     1000    0.011    0.000    0.096    0.000 cast.py:1072(find_common_type)\n",
       "     1000    0.007    0.000    0.035    0.000 base.py:1117(__iter__)\n",
       "    19000    0.007    0.000    0.007    0.000 numerictypes.py:587(<listcomp>)\n",
       "     2003    0.006    0.000    0.013    0.000 managers.py:139(shape)\n",
       "     1000    0.006    0.000    0.287    0.000 managers.py:736(as_array)\n",
       "     2002    0.004    0.000    0.004    0.000 _internal.py:886(npy_ctypes_check)\n",
       "     2001    0.004    0.000    0.017    0.000 common.py:1578(is_bool_dtype)\n",
       "     1001    0.004    0.000    0.004    0.000 {built-in method builtins.sum}\n",
       "     1000    0.004    0.000    0.045    0.000 numerictypes.py:602(find_common_type)\n",
       "     2000    0.003    0.000    0.056    0.000 blocks.py:175(get_values)\n",
       "     2001    0.003    0.000    0.012    0.000 common.py:403(is_datetime64_dtype)\n",
       "     1000    0.003    0.000    0.300    0.000 generic.py:5250(values)\n",
       "     1000    0.003    0.000    0.102    0.000 managers.py:1868(_interleaved_dtype)\n",
       "     1000    0.003    0.000    0.003    0.000 {built-in method numpy.zeros}\n",
       "     2001    0.003    0.000    0.024    0.000 {built-in method builtins.any}\n",
       "     4001    0.002    0.000    0.003    0.000 common.py:1809(_get_dtype)\n",
       "     2001    0.002    0.000    0.009    0.000 common.py:472(is_timedelta64_dtype)\n",
       "     2000    0.002    0.000    0.004    0.000 managers.py:174(_is_single_block)\n",
       "     1000    0.002    0.000    0.023    0.000 common.py:702(is_datetimelike)\n",
       "     6009    0.002    0.000    0.007    0.000 managers.py:141(<genexpr>)\n",
       "     1000    0.002    0.000    0.018    0.000 {method 'all' of 'numpy.ndarray' objects}\n",
       "     1000    0.002    0.000    0.008    0.000 generic.py:5122(_protect_consolidate)\n",
       "     1000    0.002    0.000    0.006    0.000 generic.py:5135(f)\n",
       "     3000    0.002    0.000    0.016    0.000 {built-in method builtins.all}\n",
       "     1000    0.002    0.000    0.003    0.000 managers.py:1884(<listcomp>)\n",
       "     3000    0.002    0.000    0.018    0.000 cast.py:1112(<genexpr>)\n",
       "     1000    0.002    0.000    0.004    0.000 common.py:746(is_dtype_equal)\n",
       "     2000    0.002    0.000    0.005    0.000 cast.py:1097(<genexpr>)\n",
       "     3000    0.002    0.000    0.002    0.000 cast.py:1100(<genexpr>)\n",
       "     1000    0.002    0.000    0.009    0.000 generic.py:5132(_consolidate_inplace)\n",
       "     1000    0.001    0.000    0.001    0.000 numerictypes.py:654(<listcomp>)\n",
       "     1000    0.001    0.000    0.002    0.000 managers.py:604(is_mixed_type)\n",
       "     4000    0.001    0.000    0.001    0.000 base.py:3632(_values)\n",
       "     2000    0.001    0.000    0.006    0.000 cast.py:1105(<genexpr>)\n",
       "     1000    0.001    0.000    0.001    0.000 {method 'transpose' of 'numpy.ndarray' objects}\n",
       "     2002    0.001    0.000    0.001    0.000 managers.py:143(ndim)\n",
       "     2001    0.001    0.000    0.001    0.000 managers.py:591(is_consolidated)\n",
       "     1000    0.001    0.000    0.002    0.000 managers.py:911(consolidate)\n",
       "     2000    0.001    0.000    0.004    0.000 cast.py:1107(<genexpr>)\n",
       "     1000    0.001    0.000    0.016    0.000 _methods.py:45(_all)\n",
       "     1001    0.001    0.000    0.001    0.000 managers.py:927(_consolidate_inplace)\n",
       "       14    0.001    0.000    0.001    0.000 {pandas._libs.lib.maybe_convert_objects}\n",
       "     1001    0.001    0.000    0.001    0.000 construction.py:471(<genexpr>)\n",
       "        1    0.000    0.000    0.000    0.000 {pandas._libs.lib.dicts_to_array}\n",
       "        1    0.000    0.000    0.001    0.001 {pandas._libs.lib.fast_unique_multiple_list_gen}\n",
       "     1001    0.000    0.000    0.000    0.000 construction.py:472(<genexpr>)\n",
       "        1    0.000    0.000   72.051   72.051 <string>:1(<module>)\n",
       "     1000    0.000    0.000    0.000    0.000 numerictypes.py:655(<listcomp>)\n",
       "        1    0.000    0.000    0.000    0.000 construction.py:477(<listcomp>)\n",
       "        1    0.000    0.000   72.051   72.051 {built-in method builtins.exec}\n",
       "        1    0.000    0.000    0.000    0.000 {built-in method nt.stat}\n",
       "        1    0.000    0.000    0.001    0.001 managers.py:1696(form_blocks)\n",
       "     1000    0.000    0.000    0.000    0.000 {method 'keys' of 'dict' objects}\n",
       "        2    0.000    0.000    0.000    0.000 managers.py:1841(_stack_arrays)\n",
       "        1    0.000    0.000    0.000    0.000 managers.py:186(_rebuild_blknos_and_blklocs)\n",
       "        1    0.000    0.000    0.000    0.000 {pandas._libs.lib.clean_index_list}\n",
       "       14    0.000    0.000    0.001    0.000 construction.py:495(convert)\n",
       "      4/1    0.000    0.000    0.000    0.000 <frozen importlib._bootstrap>:978(_find_and_load)\n",
       "        1    0.000    0.000    0.000    0.000 base.py:253(__new__)\n",
       "       14    0.000    0.000    0.000    0.000 base.py:3940(__getitem__)\n",
       "        1    0.000    0.000    0.003    0.003 construction.py:469(_list_of_dict_to_arrays)\n",
       "        1    0.000    0.000    0.001    0.001 construction.py:254(_homogenize)\n",
       "        1    0.000    0.000    0.005    0.005 frame.py:378(__init__)\n",
       "       17    0.000    0.000    0.000    0.000 range.py:510(__len__)\n",
       "        4    0.000    0.000    0.000    0.000 <frozen importlib._bootstrap>:157(_get_module_lock)\n",
       "        1    0.000    0.000    0.000    0.000 <frozen importlib._bootstrap_external>:1356(find_spec)\n",
       "        8    0.000    0.000    0.000    0.000 {built-in method _thread.allocate_lock}\n",
       "      4/2    0.000    0.000    0.000    0.000 {built-in method _abc._abc_subclasscheck}\n",
       "        3    0.000    0.000    0.000    0.000 {method 'format' of 'str' objects}\n",
       "        1    0.000    0.000    0.000    0.000 <frozen importlib._bootstrap>:882(_find_spec)\n",
       "       14    0.000    0.000    0.000    0.000 managers.py:1844(_asarray_compat)\n",
       "      4/1    0.000    0.000    0.000    0.000 <frozen importlib._bootstrap>:948(_find_and_load_unlocked)\n",
       "        2    0.000    0.000    0.000    0.000 numeric.py:676(require)\n",
       "        3    0.000    0.000    0.000    0.000 {built-in method numpy.arange}\n",
       "        1    0.000    0.000    0.000    0.000 base.py:504(_simple_new)\n",
       "       17    0.000    0.000    0.000    0.000 {built-in method builtins.max}\n",
       "        1    0.000    0.000    0.000    0.000 managers.py:1810(_multi_blockify)\n",
       "        1    0.000    0.000    0.003    0.003 construction.py:382(to_arrays)\n",
       "        1    0.000    0.000    0.000    0.000 cast.py:1193(construct_1d_object_array_from_listlike)\n",
       "        4    0.000    0.000    0.000    0.000 <frozen importlib._bootstrap>:78(acquire)\n",
       "        4    0.000    0.000    0.000    0.000 <frozen importlib._bootstrap>:103(release)\n",
       "        4    0.000    0.000    0.000    0.000 <frozen importlib._bootstrap>:58(__init__)\n",
       "        1    0.000    0.000    0.000    0.000 managers.py:97(__init__)\n",
       "        1    0.000    0.000    0.000    0.000 managers.py:306(_verify_integrity)\n",
       "        1    0.000    0.000    0.000    0.000 range.py:69(__new__)\n",
       "        1    0.000    0.000    0.000    0.000 range.py:136(_simple_new)\n",
       "        5    0.000    0.000    0.000    0.000 <frozen importlib._bootstrap_external>:56(_path_join)\n",
       "        2    0.000    0.000    0.000    0.000 _dtype.py:46(__str__)\n",
       "        5    0.000    0.000    0.000    0.000 <frozen importlib._bootstrap_external>:58(<listcomp>)\n",
       "        4    0.000    0.000    0.000    0.000 <frozen importlib._bootstrap>:147(__enter__)\n",
       "        1    0.000    0.000    0.000    0.000 <frozen importlib._bootstrap_external>:1240(_get_spec)\n",
       "        1    0.000    0.000    0.001    0.001 construction.py:501(<listcomp>)\n",
       "        1    0.000    0.000    0.001    0.001 managers.py:1663(create_block_manager_from_arrays)\n",
       "        2    0.000    0.000    0.000    0.000 numeric.py:748(<setcomp>)\n",
       "       14    0.000    0.000    0.000    0.000 common.py:144(cast_scalar_indexer)\n",
       "        1    0.000    0.000    0.000    0.000 base.py:5408(default_index)\n",
       "        1    0.000    0.000   72.045   72.045 <ipython-input-16-c74de36414ec>:1(generate_n_samples)\n",
       "        2    0.000    0.000    0.000    0.000 <frozen importlib._bootstrap>:416(parent)\n",
       "       16    0.000    0.000    0.000    0.000 numeric.py:469(asarray)\n",
       "        2    0.000    0.000    0.000    0.000 __init__.py:221(iteritems)\n",
       "        2    0.000    0.000    0.000    0.000 blocks.py:312(ftype)\n",
       "        1    0.000    0.000    0.000    0.000 common.py:222(asarray_tuplesafe)\n",
       "        1    0.000    0.000    0.000    0.000 managers.py:599(_consolidate_check)\n",
       "      4/2    0.000    0.000    0.000    0.000 abc.py:141(__subclasscheck__)\n",
       "        1    0.000    0.000    0.002    0.002 construction.py:43(arrays_to_mgr)\n",
       "      3/1    0.000    0.000    0.000    0.000 {built-in method builtins.__import__}\n",
       "        4    0.000    0.000    0.000    0.000 <frozen importlib._bootstrap>:176(cb)\n",
       "        1    0.000    0.000    0.001    0.001 construction.py:484(_convert_object_array)\n",
       "        4    0.000    0.000    0.000    0.000 <frozen importlib._bootstrap>:143(__init__)\n",
       "        4    0.000    0.000    0.000    0.000 <frozen importlib._bootstrap>:151(__exit__)\n",
       "      3/1    0.000    0.000    0.000    0.000 <frozen importlib._bootstrap>:211(_call_with_frames_removed)\n",
       "        1    0.000    0.000    0.000    0.000 _collections_abc.py:72(_check_methods)\n",
       "        1    0.000    0.000    0.000    0.000 managers.py:1796(_simple_blockify)\n",
       "        7    0.000    0.000    0.000    0.000 {method 'rpartition' of 'str' objects}\n",
       "       12    0.000    0.000    0.000    0.000 {built-in method _imp.acquire_lock}\n",
       "        1    0.000    0.000    0.000    0.000 <frozen importlib._bootstrap_external>:1272(find_spec)\n",
       "        8    0.000    0.000    0.000    0.000 {method 'get' of 'dict' objects}\n",
       "        1    0.000    0.000    0.000    0.000 <frozen importlib._bootstrap_external>:74(_path_stat)\n",
       "        3    0.000    0.000    0.000    0.000 managers.py:308(<genexpr>)\n",
       "        1    0.000    0.000    0.000    0.000 managers.py:600(<listcomp>)\n",
       "       12    0.000    0.000    0.000    0.000 {built-in method _imp.release_lock}\n",
       "        1    0.000    0.000    0.000    0.000 {method 'any' of 'numpy.ndarray' objects}\n",
       "        5    0.000    0.000    0.000    0.000 <frozen importlib._bootstrap>:222(_verbose_message)\n",
       "        1    0.000    0.000    0.000    0.000 <frozen importlib._bootstrap>:369(__init__)\n",
       "        1    0.000    0.000    0.000    0.000 <frozen importlib._bootstrap>:792(find_spec)\n",
       "        4    0.000    0.000    0.000    0.000 <frozen importlib._bootstrap>:859(__exit__)\n",
       "        1    0.000    0.000    0.000    0.000 <frozen importlib._bootstrap>:873(_find_spec_legacy)\n",
       "        3    0.000    0.000    0.000    0.000 _collections_abc.py:302(__subclasshook__)\n",
       "        1    0.000    0.000    0.000    0.000 common.py:923(is_signed_integer_dtype)\n",
       "        1    0.000    0.000    0.000    0.000 base.py:4051(equals)\n",
       "        2    0.000    0.000    0.000    0.000 range.py:89(ensure_int)\n",
       "        8    0.000    0.000    0.000    0.000 {built-in method _thread.get_ident}\n",
       "        5    0.000    0.000    0.000    0.000 {method 'join' of 'str' objects}\n",
       "        2    0.000    0.000    0.000    0.000 {method 'fill' of 'numpy.ndarray' objects}\n",
       "        4    0.000    0.000    0.000    0.000 <frozen importlib._bootstrap>:855(__enter__)\n",
       "        1    0.000    0.000    0.000    0.000 <frozen importlib._bootstrap_external>:1203(_path_importer_cache)\n",
       "        1    0.000    0.000    0.000    0.000 _collections_abc.py:252(__subclasshook__)\n",
       "        1    0.000    0.000    0.000    0.000 inference.py:121(is_iterator)\n",
       "        1    0.000    0.000    0.000    0.000 common.py:1078(is_datetime64_any_dtype)\n",
       "        2    0.000    0.000    0.000    0.000 base.py:633(_reset_identity)\n",
       "        2    0.000    0.000    0.000    0.000 managers.py:1850(_shape_compat)\n",
       "        1    0.000    0.000    0.000    0.000 <frozen importlib._bootstrap_external>:36(_relax_case)\n",
       "        1    0.000    0.000    0.000    0.000 common.py:980(is_unsigned_integer_dtype)\n",
       "        1    0.000    0.000    0.000    0.000 managers.py:98(<listcomp>)\n",
       "        2    0.000    0.000    0.000    0.000 {built-in method __new__ of type object at 0x000007FECABF6D30}\n",
       "        2    0.000    0.000    0.000    0.000 {method 'items' of 'dict' objects}\n",
       "       10    0.000    0.000    0.000    0.000 {method 'rstrip' of 'str' objects}\n",
       "        1    0.000    0.000    0.000    0.000 six.py:184(find_module)\n",
       "        1    0.000    0.000    0.000    0.000 _methods.py:42(_any)\n",
       "        1    0.000    0.000    0.000    0.000 common.py:1545(is_float_dtype)\n",
       "        1    0.000    0.000    0.000    0.000 common.py:175(_all_none)\n",
       "        1    0.000    0.000    0.000    0.000 base.py:613(is_)\n",
       "        2    0.000    0.000    0.000    0.000 blocks.py:304(shape)\n",
       "        8    0.000    0.000    0.000    0.000 managers.py:1814(<lambda>)\n",
       "        2    0.000    0.000    0.000    0.000 {method 'upper' of 'str' objects}\n",
       "        2    0.000    0.000    0.000    0.000 {built-in method builtins.iter}\n",
       "        1    0.000    0.000    0.000    0.000 {built-in method _imp.is_frozen}\n",
       "        1    0.000    0.000    0.000    0.000 <frozen importlib._bootstrap>:719(find_spec)\n",
       "        1    0.000    0.000    0.000    0.000 inference.py:411(is_named_tuple)\n",
       "        1    0.000    0.000    0.000    0.000 range.py:165(_validate_dtype)\n",
       "        1    0.000    0.000    0.000    0.000 managers.py:206(items)\n",
       "        2    0.000    0.000    0.000    0.000 {method 'extend' of 'list' objects}\n",
       "        1    0.000    0.000    0.000    0.000 {method 'disable' of '_lsprof.Profiler' objects}\n",
       "        1    0.000    0.000    0.000    0.000 {pandas._libs.lib.is_integer}"
      ]
     },
     "metadata": {},
     "output_type": "display_data"
    }
   ],
   "source": [
    "%prun samples = pd.DataFrame(generate_n_samples(risks=scenario, n=1000))"
   ]
  },
  {
   "cell_type": "code",
   "execution_count": 18,
   "metadata": {},
   "outputs": [],
   "source": [
    "samples.to_csv(\"samples.csv\")"
   ]
  },
  {
   "cell_type": "code",
   "execution_count": null,
   "metadata": {},
   "outputs": [],
   "source": [
    "# rawrisks = pd.DataFrame(list(map(\n",
    "#     lambda it: {'id': it[1][0], 'best': it[1][6], 'mode': it[1][7], 'worst': it[1][8], 'prob': it[1][9]},\n",
    "#     scenario.iterrows()\n",
    "# )))\n",
    "# rawrisks.shape"
   ]
  },
  {
   "cell_type": "code",
   "execution_count": null,
   "metadata": {},
   "outputs": [],
   "source": [
    "# rawrisks.head()"
   ]
  },
  {
   "cell_type": "code",
   "execution_count": null,
   "metadata": {},
   "outputs": [],
   "source": [
    "# all_risks_vals(rawrisks)"
   ]
  },
  {
   "cell_type": "code",
   "execution_count": null,
   "metadata": {},
   "outputs": [],
   "source": [
    "# one_sample_all_risks(rawrisks)"
   ]
  },
  {
   "cell_type": "code",
   "execution_count": 24,
   "metadata": {},
   "outputs": [],
   "source": [
    "import numpy as np\n",
    "import pandas as pd\n",
    "import matplotlib.pyplot as plt\n",
    "from unidip import UniDip"
   ]
  },
  {
   "cell_type": "code",
   "execution_count": 20,
   "metadata": {},
   "outputs": [],
   "source": [
    "samples = pd.read_csv(\"samples.csv\")"
   ]
  },
  {
   "cell_type": "code",
   "execution_count": null,
   "metadata": {},
   "outputs": [],
   "source": [
    "# samples.head()"
   ]
  },
  {
   "cell_type": "code",
   "execution_count": null,
   "metadata": {},
   "outputs": [],
   "source": [
    "# samples.shape"
   ]
  },
  {
   "cell_type": "code",
   "execution_count": 21,
   "metadata": {},
   "outputs": [],
   "source": [
    "dat = np.multiply(samples['amount'], 0.000001)"
   ]
  },
  {
   "cell_type": "code",
   "execution_count": 25,
   "metadata": {},
   "outputs": [
    {
     "data": {
      "text/plain": [
       "<matplotlib.axes._subplots.AxesSubplot at 0x10833da0>"
      ]
     },
     "execution_count": 25,
     "metadata": {},
     "output_type": "execute_result"
    },
    {
     "data": {
      "image/png": "[encoded data removed]",
      "text/plain": [
       "<Figure size 432x288 with 1 Axes>"
      ]
     },
     "metadata": {
      "needs_background": "light"
     },
     "output_type": "display_data"
    }
   ],
   "source": [
    "dat = np.msort(dat)\n",
    "# dat\n",
    "pd.Series(dat).hist()"
   ]
  },
  {
   "cell_type": "code",
   "execution_count": 26,
   "metadata": {},
   "outputs": [
    {
     "name": "stdout",
     "output_type": "stream",
     "text": [
      "[(-5.365079806527926, 12.228016257594287)]\n"
     ]
    }
   ],
   "source": [
    "# get start and stop indices of peaks \n",
    "intervals = UniDip(dat).run()\n",
    "val_ranges = [(dat[a], dat[b]) for a, b in intervals]\n",
    "print(val_ranges)"
   ]
  },
  {
   "cell_type": "code",
   "execution_count": null,
   "metadata": {},
   "outputs": [],
   "source": []
  }
 ],
 "metadata": {
  "kernelspec": {
   "display_name": "Python 3",
   "language": "python",
   "name": "python3"
  },
  "language_info": {
   "codemirror_mode": {
    "name": "ipython",
    "version": 3
   },
   "file_extension": ".py",
   "mimetype": "text/x-python",
   "name": "python",
   "nbconvert_exporter": "python",
   "pygments_lexer": "ipython3",
   "version": "3.7.1"
  }
 },
 "nbformat": 4,
 "nbformat_minor": 4
}
